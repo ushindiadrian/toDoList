{
 "cells": [
  {
   "cell_type": "code",
   "execution_count": 1,
   "metadata": {},
   "outputs": [
    {
     "name": "stdout",
     "output_type": "stream",
     "text": [
      " * Serving Flask app '__main__' (lazy loading)\n",
      " * Environment: production\n",
      "\u001b[31m   WARNING: This is a development server. Do not use it in a production deployment.\u001b[0m\n",
      "\u001b[2m   Use a production WSGI server instead.\u001b[0m\n",
      " * Debug mode: off\n"
     ]
    },
    {
     "name": "stderr",
     "output_type": "stream",
     "text": [
      " * Running on http://127.0.0.1:5006/ (Press CTRL+C to quit)\n"
     ]
    }
   ],
   "source": [
    "from flask import Flask, render_template, request\n",
    "\n",
    "app = Flask(__name__)\n",
    "\n",
    "tasks = {\"todo\": [], \"doing\": [], \"done\": []}\n",
    "\n",
    "\n",
    "@app.route(\"/\")\n",
    "def index():\n",
    "    return render_template(\"todoapp2.html\", tasks=tasks)\n",
    "\n",
    "\n",
    "@app.route(\"/add_task\", methods=[\"POST\"])\n",
    "def add_task():\n",
    "    task_text = request.form.get(\"task\")\n",
    "    task_category = request.form.get(\"category\")\n",
    "\n",
    "    if task_text and task_category in tasks:\n",
    "        new_task = {\"text\": task_text, \"category\": task_category, \"id\": len(tasks[task_category]) + 1}\n",
    "        tasks[task_category].append(new_task)\n",
    "\n",
    "    return index()\n",
    "\n",
    "\n",
    "@app.route(\"/update_status/<int:task_id>/<string:status>\")\n",
    "def update_status(task_id, status):\n",
    "    valid_statuses = [\"todo\", \"doing\", \"done\"]\n",
    "\n",
    "    if status not in valid_statuses:\n",
    "        return index()\n",
    "\n",
    "    for category, category_tasks in tasks.items():\n",
    "        task = next((task for task in category_tasks if task[\"id\"] == task_id), None)\n",
    "        if task:\n",
    "            task[\"category\"] = status\n",
    "\n",
    "    return index()\n",
    "\n",
    "\n",
    "@app.route(\"/delete_task/<int:task_id>\")\n",
    "def delete_task(task_id):\n",
    "    for category, category_tasks in tasks.items():\n",
    "        tasks[category] = [task for task in category_tasks if task[\"id\"] != task_id]\n",
    "\n",
    "    return index()\n",
    "\n",
    "\n",
    "if __name__ == \"__main__\":\n",
    "    app.run(port=5006) \n"
   ]
  },
  {
   "cell_type": "code",
   "execution_count": null,
   "metadata": {},
   "outputs": [
    {
     "name": "stdout",
     "output_type": "stream",
     "text": [
      " * Serving Flask app '__main__' (lazy loading)\n",
      " * Environment: production\n",
      "\u001b[31m   WARNING: This is a development server. Do not use it in a production deployment.\u001b[0m\n",
      "\u001b[2m   Use a production WSGI server instead.\u001b[0m\n",
      " * Debug mode: off\n"
     ]
    },
    {
     "name": "stderr",
     "output_type": "stream",
     "text": [
      " * Running on http://127.0.0.1:5001/ (Press CTRL+C to quit)\n",
      "127.0.0.1 - - [15/Dec/2023 10:09:38] \"GET / HTTP/1.1\" 200 -\n",
      "127.0.0.1 - - [15/Dec/2023 10:09:38] \"\u001b[36mGET /static/styles.css HTTP/1.1\u001b[0m\" 304 -\n",
      "127.0.0.1 - - [15/Dec/2023 10:09:49] \"\u001b[32mPOST /add_task HTTP/1.1\u001b[0m\" 302 -\n",
      "127.0.0.1 - - [15/Dec/2023 10:09:49] \"GET / HTTP/1.1\" 200 -\n",
      "127.0.0.1 - - [15/Dec/2023 10:09:49] \"\u001b[36mGET /static/styles.css HTTP/1.1\u001b[0m\" 304 -\n",
      "127.0.0.1 - - [15/Dec/2023 10:10:01] \"\u001b[32mPOST /add_task HTTP/1.1\u001b[0m\" 302 -\n",
      "127.0.0.1 - - [15/Dec/2023 10:10:01] \"GET / HTTP/1.1\" 200 -\n",
      "127.0.0.1 - - [15/Dec/2023 10:10:01] \"\u001b[36mGET /static/styles.css HTTP/1.1\u001b[0m\" 304 -\n",
      "127.0.0.1 - - [15/Dec/2023 10:10:04] \"\u001b[32mPOST /delete_task/2 HTTP/1.1\u001b[0m\" 302 -\n",
      "127.0.0.1 - - [15/Dec/2023 10:10:04] \"GET / HTTP/1.1\" 200 -\n",
      "127.0.0.1 - - [15/Dec/2023 10:10:04] \"\u001b[36mGET /static/styles.css HTTP/1.1\u001b[0m\" 304 -\n",
      "127.0.0.1 - - [15/Dec/2023 10:10:11] \"\u001b[32mPOST /add_task HTTP/1.1\u001b[0m\" 302 -\n",
      "127.0.0.1 - - [15/Dec/2023 10:10:11] \"GET / HTTP/1.1\" 200 -\n",
      "127.0.0.1 - - [15/Dec/2023 10:10:11] \"\u001b[36mGET /static/styles.css HTTP/1.1\u001b[0m\" 304 -\n",
      "127.0.0.1 - - [15/Dec/2023 10:10:16] \"\u001b[32mPOST /add_task HTTP/1.1\u001b[0m\" 302 -\n",
      "127.0.0.1 - - [15/Dec/2023 10:10:16] \"GET / HTTP/1.1\" 200 -\n",
      "127.0.0.1 - - [15/Dec/2023 10:10:17] \"\u001b[36mGET /static/styles.css HTTP/1.1\u001b[0m\" 304 -\n",
      "127.0.0.1 - - [15/Dec/2023 10:10:21] \"\u001b[32mPOST /delete_task/4 HTTP/1.1\u001b[0m\" 302 -\n",
      "127.0.0.1 - - [15/Dec/2023 10:10:21] \"GET / HTTP/1.1\" 200 -\n",
      "127.0.0.1 - - [15/Dec/2023 10:10:21] \"\u001b[36mGET /static/styles.css HTTP/1.1\u001b[0m\" 304 -\n",
      "127.0.0.1 - - [15/Dec/2023 10:10:28] \"\u001b[32mPOST /add_task HTTP/1.1\u001b[0m\" 302 -\n",
      "127.0.0.1 - - [15/Dec/2023 10:10:28] \"GET / HTTP/1.1\" 200 -\n",
      "127.0.0.1 - - [15/Dec/2023 10:10:29] \"\u001b[36mGET /static/styles.css HTTP/1.1\u001b[0m\" 304 -\n",
      "127.0.0.1 - - [15/Dec/2023 10:15:51] \"GET / HTTP/1.1\" 200 -\n",
      "127.0.0.1 - - [15/Dec/2023 10:15:51] \"\u001b[36mGET /static/styles.css HTTP/1.1\u001b[0m\" 304 -\n",
      "127.0.0.1 - - [15/Dec/2023 10:59:36] \"GET / HTTP/1.1\" 200 -\n",
      "127.0.0.1 - - [15/Dec/2023 10:59:36] \"GET / HTTP/1.1\" 200 -\n",
      "127.0.0.1 - - [15/Dec/2023 10:59:36] \"\u001b[36mGET /static/styles.css HTTP/1.1\u001b[0m\" 304 -\n",
      "127.0.0.1 - - [15/Dec/2023 10:59:36] \"\u001b[36mGET /static/styles.css HTTP/1.1\u001b[0m\" 304 -\n"
     ]
    }
   ],
   "source": [
    "from flask import Flask, render_template, redirect, url_for,request\n",
    "\n",
    "app = Flask(__name__)\n",
    "\n",
    "tasks = {\"todo\": [], \"doing\": [], \"done\": []}\n",
    "task_id_counter = 1\n",
    "\n",
    "\n",
    "@app.route(\"/\")\n",
    "def index():\n",
    "    return render_template(\"todoapp2.html\", tasks=tasks)\n",
    "\n",
    "\n",
    "@app.route(\"/add_task\", methods=[\"POST\"])\n",
    "def add_task():\n",
    "    global task_id_counter\n",
    "    task_text = request.form.get(\"task\")\n",
    "    task_category = request.form.get(\"category\")\n",
    "\n",
    "    if task_text and task_category in tasks:\n",
    "        new_task = {\"text\": task_text, \"category\": task_category, \"id\": task_id_counter}\n",
    "        tasks[task_category].append(new_task)\n",
    "        task_id_counter += 1\n",
    "\n",
    "    return redirect(url_for(\"index\"))\n",
    "\n",
    "\n",
    "\n",
    "@app.route(\"/delete_task/<int:task_id>\",methods=[\"POST\"])\n",
    "def delete_task(task_id):\n",
    "    for category, category_tasks in tasks.items():\n",
    "        tasks[category] = [task for task in category_tasks if task[\"id\"] != task_id]\n",
    "\n",
    "    return redirect(url_for(\"index\"))\n",
    "\n",
    "\n",
    "app.run(port=5001)"
   ]
  },
  {
   "cell_type": "code",
   "execution_count": null,
   "metadata": {},
   "outputs": [],
   "source": []
  },
  {
   "cell_type": "code",
   "execution_count": null,
   "metadata": {},
   "outputs": [],
   "source": []
  }
 ],
 "metadata": {
  "kernelspec": {
   "display_name": "Python 3",
   "language": "python",
   "name": "python3"
  },
  "language_info": {
   "codemirror_mode": {
    "name": "ipython",
    "version": 3
   },
   "file_extension": ".py",
   "mimetype": "text/x-python",
   "name": "python",
   "nbconvert_exporter": "python",
   "pygments_lexer": "ipython3",
   "version": "3.6.8"
  }
 },
 "nbformat": 4,
 "nbformat_minor": 2
}
