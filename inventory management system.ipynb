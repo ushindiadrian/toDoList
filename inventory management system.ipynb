{
 "cells": [
  {
   "cell_type": "code",
   "execution_count": 3,
   "metadata": {},
   "outputs": [
    {
     "name": "stdout",
     "output_type": "stream",
     "text": [
      "Current Inventory:\n",
      "Item ID: 1, Name: Laptop, Quantity: 10, Price: 799.99\n",
      "Item ID: 2, Name: Mouse, Quantity: 50, Price: 19.99\n",
      "Current Inventory:\n",
      "Item ID: 1, Name: Laptop, Quantity: 10, Price: 799.99\n",
      "Item ID: 2, Name: Mouse, Quantity: 50, Price: 19.99\n",
      "Item ID: 3, Name: Keyboard, Quantity: 30, Price: 49.99\n"
     ]
    }
   ],
   "source": [
    "class InventoryItem:\n",
    "    def __init__(self, item_id, name, quantity, price):\n",
    "        self.item_id = item_id\n",
    "        self.name = name\n",
    "        self.quantity = quantity\n",
    "        self.price = price\n",
    "\n",
    "    def __str__(self):\n",
    "        return f\"Item ID: {self.item_id}, Name: {self.name}, Quantity: {self.quantity}, Price: {self.price}\"\n",
    "\n",
    "class InventoryManager:\n",
    "    def __init__(self):\n",
    "        self.inventory = []\n",
    "\n",
    "    def add_item(self, item_id, name, quantity, price):\n",
    "        new_item = InventoryItem(item_id, name, quantity, price)\n",
    "        self.inventory.append(new_item)\n",
    "\n",
    "    def display_inventory(self):\n",
    "        print(\"Current Inventory:\")\n",
    "        for item in self.inventory:\n",
    "            print(item)\n",
    "\n",
    "# Example usage:\n",
    "# Create an instance of InventoryManager\n",
    "inventory_manager = InventoryManager()\n",
    "\n",
    "# Add some initial items to the inventory\n",
    "inventory_manager.add_item(1, \"Laptop\", 10, 799.99)\n",
    "inventory_manager.add_item(2, \"Mouse\", 50, 19.99)\n",
    "\n",
    "# Display the current inventory\n",
    "inventory_manager.display_inventory()\n",
    "\n",
    "# Add a new item to the inventory\n",
    "inventory_manager.add_item(3, \"Keyboard\", 30, 49.99)\n",
    "\n",
    "# Display the updated inventory\n",
    "inventory_manager.display_inventory()\n"
   ]
  },
  {
   "cell_type": "code",
   "execution_count": 4,
   "metadata": {},
   "outputs": [],
   "source": [
    "#read file\n",
    "with open('newFile.txt','w') as  file:\n",
    "    file.write('Hello,world!/n')\n",
    "    file.write('This is a sample file.')"
   ]
  }
 ],
 "metadata": {
  "kernelspec": {
   "display_name": "Python 3",
   "language": "python",
   "name": "python3"
  },
  "language_info": {
   "codemirror_mode": {
    "name": "ipython",
    "version": 3
   },
   "file_extension": ".py",
   "mimetype": "text/x-python",
   "name": "python",
   "nbconvert_exporter": "python",
   "pygments_lexer": "ipython3",
   "version": "3.6.8"
  }
 },
 "nbformat": 4,
 "nbformat_minor": 2
}
